{
 "cells": [
  {
   "cell_type": "code",
   "execution_count": 184,
   "id": "initial_id",
   "metadata": {
    "collapsed": true,
    "ExecuteTime": {
     "end_time": "2025-05-14T14:37:01.051784Z",
     "start_time": "2025-05-14T14:37:00.590672Z"
    }
   },
   "outputs": [],
   "source": [
    "import pandas as pd\n",
    "\n",
    "train = pd.read_csv('data/MetaHate<lang>_train.tsv', sep='\\t')\n",
    "test = pd.read_csv('data/MetaHate<lang>_test.tsv', sep='\\t')\n",
    "data = pd.concat([train, test], ignore_index=True)\n",
    "text_hate = data.loc[data['label'] == 1, 'text'].tolist()\n",
    "text_no_hate = data.loc[data['label'] == 0, 'text'].tolist()"
   ]
  },
  {
   "cell_type": "code",
   "execution_count": 175,
   "outputs": [],
   "source": [
    "nrc_df = pd.read_csv('<lang>-NRC-EmoLex.txt', sep='\\t')\n",
    "\n",
    "emotion_cols = ['anger', 'anticipation', 'disgust', 'fear', 'joy',\n",
    "                'negative', 'positive', 'sadness', 'surprise', 'trust']\n",
    "nrc_df = nrc_df[['<lang> Word'] + emotion_cols]\n",
    "nrc_df.columns = ['word'] + emotion_cols"
   ],
   "metadata": {
    "collapsed": false,
    "ExecuteTime": {
     "end_time": "2025-05-14T14:30:49.974621Z",
     "start_time": "2025-05-14T14:30:49.937359Z"
    }
   },
   "id": "5619dd74ef4ec4ea"
  },
  {
   "cell_type": "code",
   "execution_count": 176,
   "outputs": [],
   "source": [
    "nrc_df_grouped = nrc_df.groupby('word', as_index=False).mean()\n",
    "nrc_emotion_dict = nrc_df_grouped.set_index('word').to_dict(orient='index')"
   ],
   "metadata": {
    "collapsed": false,
    "ExecuteTime": {
     "end_time": "2025-05-14T14:30:50.667254Z",
     "start_time": "2025-05-14T14:30:50.582700Z"
    }
   },
   "id": "18172ec7e7d6505b"
  },
  {
   "cell_type": "code",
   "execution_count": null,
   "outputs": [],
   "source": [
    "from nltk.tokenize import word_tokenize\n",
    "from collections import defaultdict\n",
    "import nltk\n",
    "nltk.download('punkt')\n",
    "\n",
    "def analyze_emotions(text_list, emotion_dict):\n",
    "    emotion_totals = defaultdict(float)\n",
    "    \n",
    "    for text in text_list:\n",
    "        tokens = word_tokenize(text.lower())\n",
    "        for word in tokens:\n",
    "            if word in emotion_dict:\n",
    "                for emotion, value in emotion_dict[word].items():\n",
    "                    emotion_totals[emotion] += value\n",
    "                    \n",
    "    return dict(emotion_totals)"
   ],
   "metadata": {
    "collapsed": false
   },
   "id": "4d15ccb90514683f"
  },
  {
   "cell_type": "code",
   "execution_count": null,
   "outputs": [],
   "source": [
    "emotion_hate = analyze_emotions(text_hate, nrc_emotion_dict)\n",
    "emotion_no_hate = analyze_emotions(text_no_hate, nrc_emotion_dict)\n",
    "\n",
    "print(\"Hate emotions:\", emotion_hate)\n",
    "print(\"Non-hate emotions:\", emotion_no_hate)"
   ],
   "metadata": {
    "collapsed": false
   },
   "id": "90e560817894c0e6"
  },
  {
   "cell_type": "code",
   "execution_count": null,
   "outputs": [],
   "source": [
    "from nrclex import NRCLex\n",
    "\n",
    "emotion_hate = NRCLex(' '.join(text_hate))\n",
    "emotion_no_hate = NRCLex(' '.join(text_no_hate))\n",
    "\n",
    "print(emotion_hate.raw_emotion_scores)\n",
    "print(emotion_no_hate.raw_emotion_scores)"
   ],
   "metadata": {
    "collapsed": false
   },
   "id": "559a136fd20fccea"
  },
  {
   "cell_type": "code",
   "execution_count": null,
   "outputs": [],
   "source": [
    "from textblob import TextBlob\n",
    "\n",
    "blob_hate = TextBlob(' '.join(text_hate))\n",
    "sentences_hate = list(blob_hate.sentences)\n",
    "\n",
    "blob_no_hate = TextBlob(' '.join(text_no_hate))\n",
    "sentences_no_hate = list(blob_no_hate.sentences)"
   ],
   "metadata": {
    "collapsed": false
   },
   "id": "9b4198c6c41cebfd"
  },
  {
   "cell_type": "code",
   "execution_count": 188,
   "outputs": [],
   "source": [
    "emotion_hate_percentage = {key: value / len(sentences_hate) for key, value in emotion_hate.raw_emotion_scores.items()}\n",
    "emotion_no_hate_percentage = {key: value / len(sentences_no_hate) for key, value in emotion_no_hate.raw_emotion_scores.items()}"
   ],
   "metadata": {
    "collapsed": false,
    "ExecuteTime": {
     "end_time": "2025-05-14T14:38:56.578788Z",
     "start_time": "2025-05-14T14:38:56.573140Z"
    }
   },
   "id": "95a226da176c9c87"
  },
  {
   "cell_type": "code",
   "execution_count": 181,
   "outputs": [],
   "source": [
    "emotion_hate_percentage = {key: value / len(sentences_hate) for key, value in emotion_hate.items()}\n",
    "emotion_no_hate_percentage = {key: value / len(sentences_no_hate) for key, value in emotion_no_hate.items()}"
   ],
   "metadata": {
    "collapsed": false,
    "ExecuteTime": {
     "end_time": "2025-05-14T14:31:20.034183Z",
     "start_time": "2025-05-14T14:31:20.030273Z"
    }
   },
   "id": "f6d93c32e2996237"
  },
  {
   "cell_type": "code",
   "execution_count": 189,
   "outputs": [],
   "source": [
    "hate_sorted = dict(sorted(emotion_hate_percentage.items(), key=lambda item: item[0]))\n",
    "no_hate_sorted = dict(sorted(emotion_no_hate_percentage.items(), key=lambda item: item[0]))"
   ],
   "metadata": {
    "collapsed": false,
    "ExecuteTime": {
     "end_time": "2025-05-14T14:38:56.590751Z",
     "start_time": "2025-05-14T14:38:56.576207Z"
    }
   },
   "id": "87f2c1bfcbc9fe0d"
  },
  {
   "cell_type": "code",
   "execution_count": null,
   "outputs": [],
   "source": [
    "import numpy as np\n",
    "import matplotlib.pyplot as plt\n",
    "\n",
    "categories = sorted(['fear','anger','anticipation', 'trust', 'surprise', 'positive', 'negative', 'sadness', 'disgust', 'joy'])\n",
    "\n",
    "def radar_plot(categories, hate, nohate, title):\n",
    "    num_categories = len(categories)\n",
    "    angles = np.linspace(0, 2 * np.pi, num_categories, endpoint=False).tolist()\n",
    "\n",
    "    fig, ax = plt.subplots(figsize=(6, 6), subplot_kw=dict(polar=True))\n",
    "    \n",
    "    ax.fill(angles, hate, color='#d2047b', alpha=0.5, label='Hate')\n",
    "    ax.fill(angles, nohate, color='#f397c2', alpha=0.5, label='No hate')\n",
    "\n",
    "    num_ticks = len(categories)\n",
    "    tick_locs = np.linspace(0, 360, num_ticks, endpoint=False)\n",
    "    \n",
    "    ax.set_thetagrids(tick_locs, categories, fontsize=12)\n",
    "    ax.xaxis.set_tick_params(pad=10)\n",
    "    \n",
    "    ax.set_title(title)\n",
    "    ax.legend(fontsize=12)\n",
    "    \n",
    "    plt.yticks([0.2,0.4,0.6,0.8,1], [\"20%\",\"40%\", \"60%\", \"80%\",\"100%\"], color=\"grey\", size=9, fontweight=\"bold\")\n",
    "    plt.show()\n",
    "\n",
    "radar_plot(categories, list(hate_sorted.values()), list(no_hate_sorted.values()), 'Hate Speech Emotions')"
   ],
   "metadata": {
    "collapsed": false
   },
   "id": "6f4caf384d2db111"
  }
 ],
 "metadata": {
  "kernelspec": {
   "display_name": "Python 3",
   "language": "python",
   "name": "python3"
  },
  "language_info": {
   "codemirror_mode": {
    "name": "ipython",
    "version": 2
   },
   "file_extension": ".py",
   "mimetype": "text/x-python",
   "name": "python",
   "nbconvert_exporter": "python",
   "pygments_lexer": "ipython2",
   "version": "2.7.6"
  }
 },
 "nbformat": 4,
 "nbformat_minor": 5
}
