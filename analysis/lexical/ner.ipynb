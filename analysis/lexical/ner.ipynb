{
 "cells": [
  {
   "cell_type": "code",
   "execution_count": 2,
   "id": "initial_id",
   "metadata": {
    "collapsed": true,
    "ExecuteTime": {
     "end_time": "2025-05-13T11:51:25.927551Z",
     "start_time": "2025-05-13T11:51:25.523873Z"
    }
   },
   "outputs": [],
   "source": [
    "import pandas as pd\n",
    "\n",
    "data = pd.read_csv('data/MetaHate<lang>.tsv', sep='\\t')\n",
    "text_hate = data.loc[data['label'] == '1', 'text'].tolist()\n",
    "text_no_hate = data.loc[data['label'] == '0', 'text'].tolist()"
   ]
  },
  {
   "cell_type": "code",
   "execution_count": null,
   "outputs": [],
   "source": [
    "import spacy\n",
    "from collections import Counter\n",
    "from tqdm import tqdm\n",
    "\n",
    "nlp = spacy.load(\"<pt_es_en>_core_news_sm\")\n",
    "\n",
    "def analyze_named_entities(text):\n",
    "    if isinstance(text, str):\n",
    "        doc = nlp(text)\n",
    "    \n",
    "        named_entities = [(ent.text, ent.label_) for ent in doc.ents]\n",
    "    \n",
    "        if not named_entities:\n",
    "            return {}, None \n",
    "    \n",
    "        entity_types = [ent_type for _, ent_type in named_entities]\n",
    "        entity_type_counts = Counter(entity_types)\n",
    "    \n",
    "        total_entities = len(entity_types)\n",
    "        entity_type_percentages = {ent_type: count / total_entities * 100 for ent_type, count in entity_type_counts.items()}\n",
    "        most_referenced_entity, _ = max(Counter(named_entities), key=lambda x: x[1])\n",
    "    \n",
    "        return entity_type_percentages, most_referenced_entity\n",
    "\n",
    "text_data = text_hate\n",
    "\n",
    "results = [analyze_named_entities(text) for text in tqdm(text_data)]\n",
    "\n",
    "total_entity_type_percentages = Counter()\n",
    "most_referenced_entities = {}\n",
    "\n",
    "for entity_type_percentages, most_referenced_entity in tqdm(results):\n",
    "    total_entity_type_percentages.update(entity_type_percentages)\n",
    "\n",
    "    if most_referenced_entity:\n",
    "        most_referenced_entities[text_data[results.index((entity_type_percentages, most_referenced_entity))]] = most_referenced_entity\n",
    "\n",
    "total_entities_across_texts = sum(total_entity_type_percentages.values())\n",
    "overall_entity_type_percentages = {ent_type: count / total_entities_across_texts * 100 for ent_type, count in total_entity_type_percentages.items()}\n",
    "\n",
    "print(\"Named Entity Type Percentages:\")\n",
    "for ent_type, percentage in overall_entity_type_percentages.items():\n",
    "    print(f\"{ent_type}: {percentage:.2f}%\")"
   ],
   "metadata": {
    "collapsed": false
   },
   "id": "a2ead0ba1ce6bace"
  }
 ],
 "metadata": {
  "kernelspec": {
   "display_name": "Python 3",
   "language": "python",
   "name": "python3"
  },
  "language_info": {
   "codemirror_mode": {
    "name": "ipython",
    "version": 2
   },
   "file_extension": ".py",
   "mimetype": "text/x-python",
   "name": "python",
   "nbconvert_exporter": "python",
   "pygments_lexer": "ipython2",
   "version": "2.7.6"
  }
 },
 "nbformat": 4,
 "nbformat_minor": 5
}
