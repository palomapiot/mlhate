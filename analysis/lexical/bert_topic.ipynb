{
 "cells": [
  {
   "cell_type": "code",
   "execution_count": null,
   "id": "initial_id",
   "metadata": {
    "collapsed": true
   },
   "outputs": [],
   "source": [
    "!pip install bertopic\n",
    "!pip install -U sentence-transformers"
   ]
  },
  {
   "cell_type": "code",
   "execution_count": 142,
   "outputs": [],
   "source": [
    "import csv\n",
    "\n",
    "def read_csv_to_list_of_lists(file_path, skip_header=True):\n",
    "    with open(file_path, 'r') as file:\n",
    "        csv_reader = csv.reader(file)\n",
    "        return [row for row in csv_reader] if not skip_header else [row for i, row in enumerate(csv_reader) if i > 0]\n",
    "csv_file_path = 'MetaHate<lang>/MetaHate<lang>_hate_ngrams.csv'\n",
    "data_ready = read_csv_to_list_of_lists(csv_file_path)"
   ],
   "metadata": {
    "collapsed": false,
    "ExecuteTime": {
     "end_time": "2025-05-13T15:41:17.995616Z",
     "start_time": "2025-05-13T15:41:17.896410Z"
    }
   },
   "id": "4d1d2374ebea4bee"
  },
  {
   "cell_type": "code",
   "execution_count": null,
   "outputs": [],
   "source": [
    "from bertopic import BERTopic\n",
    "from sentence_transformers import SentenceTransformer\n",
    "\n",
    "model = SentenceTransformer('distilbert-base-nli-mean-tokens')\n",
    "\n",
    "processed_docs = [\" \".join(doc) for doc in data_ready]\n",
    "embeddings = model.encode(processed_docs, show_progress_bar=True)\n",
    "\n",
    "topic_model = BERTopic(language=\"<lang>\", calculate_probabilities=True, verbose=True)\n",
    "topics, probabilities = topic_model.fit_transform(processed_docs, embeddings)"
   ],
   "metadata": {
    "collapsed": false
   },
   "id": "94b29a7274d0db19"
  },
  {
   "cell_type": "code",
   "execution_count": null,
   "outputs": [],
   "source": [
    "print(\"Topics and their top words:\")\n",
    "for i in range(10):\n",
    "    print(f\"Topic {i}: {topic_model.get_topic(i)}\")"
   ],
   "metadata": {
    "collapsed": false
   },
   "id": "20ae885721ae8257"
  },
  {
   "cell_type": "code",
   "execution_count": null,
   "outputs": [],
   "source": [
    "topic_model.get_topic_info()"
   ],
   "metadata": {
    "collapsed": false
   },
   "id": "2db2ddafa3674a97"
  },
  {
   "cell_type": "code",
   "execution_count": null,
   "outputs": [],
   "source": [
    "# Show top words for each of the top 10 topics\n",
    "for topic_id in top_10_topics.Topic:\n",
    "    print(f\"\\nTopic {topic_id}:\")\n",
    "    print(topic_model.get_topic(topic_id))"
   ],
   "metadata": {
    "collapsed": false
   },
   "id": "e19eba08596e22fc"
  },
  {
   "cell_type": "code",
   "execution_count": 148,
   "outputs": [],
   "source": [
    "topic_labels_es = {\n",
    "    0: \"Feminism & Gender Equality\",\n",
    "    1: \"Immigration & Politics\",\n",
    "    2: \"Viral Videos & Social Sharing\",\n",
    "    3: \"Economic Complaints & Public Spending\",\n",
    "    4: \"Racism & Racial Identity\",\n",
    "    5: \"Personal Advice & Life Topics\",\n",
    "    6: \"Gender & Emotional Expressions\",\n",
    "    7: \"Online Insults in Sports\",\n",
    "    8: \"Misogynistic Slurs & Aggression\",\n",
    "    9: \"Political Extremism & Fascism\"\n",
    "}\n",
    "topic_labels_pt = {\n",
    "    0: \"Feminism & Gender Equality\",\n",
    "    1: \"Videos & Online Content\",\n",
    "    2: \"Everyday Conversations & Interactions\",\n",
    "    3: \"Insults & Personal Offenses\",\n",
    "    4: \"Translation & Language\",\n",
    "    5: \"English Phrases & Interpretation\",\n",
    "    6: \"Racism & Ethnicity\",\n",
    "    7: \"Insults & Cultural/Sports References\",\n",
    "    8: \"Sexuality & Sexual Harassment\",\n",
    "    9: \"Mixed Insults\"\n",
    "}\n",
    "topic_labels_gl_es = {\n",
    "    0: \"Informal Speech\",\n",
    "    1: \"Automotive & Transportation\",\n",
    "    2: \"Feminism & Gender Equality\",\n",
    "    3: \"Hate Speech & Hostility\",\n",
    "    4: \"Insults & Offensive Language\",\n",
    "    5: \"Immigration & Social Issues\",\n",
    "    6: \"Racism & Discrimination\",\n",
    "    7: \"Fascism & Political Ideology\",\n",
    "    8: \"Videos & Content Sharing\",\n",
    "    9: \"Offensive Language & Personal Attacks\"\n",
    "}\n",
    "\n",
    "topics_labels_gl_pt = {\n",
    "    0: \"Informal Expressions\",\n",
    "    1: \"Feminism & Gender Advocacy\",\n",
    "    2: \"Sexism & Gender Stereotypes\",\n",
    "    3: \"Cars & Gendered Interactions\",\n",
    "    4: \"Misogyny & Traditional Gender Roles\",\n",
    "    5: \"Online Videos\",\n",
    "    6: \"Racism & Racial Discrimination\",\n",
    "    7: \"Translation & Language Discussion\",\n",
    "    8: \"Patriarchy & Masculinity\",\n",
    "    9: \"Unemployment & Social Disgust\"\n",
    "}\n",
    "\n",
    "topics_labels_en = {\n",
    "    0: \"Wikipedia Moderation & Administration\",\n",
    "    1: \"Anti-Black Racism & Race Discourse\",\n",
    "    2: \"Nihilism, Hate Speech & Extremist Rhetoric\",\n",
    "    3: \"Misogyny & Homophobia\",\n",
    "    4: \"Pop Culture & Entertainment\",\n",
    "    5: \"White Supremacy & White Genocide Narrative\",\n",
    "    6: \"Islamophobia & Anti-Muslim Sentiment\",\n",
    "    7: \"Aggression & Slurs\",\n",
    "    8: \"US Politics & Trump Discourse\",\n",
    "    9: \"Anti-Vandalism & Editorial Conflict\"\n",
    "}\n",
    "\n",
    "topic_model.set_topic_labels(topics_labels_en)\n",
    "topic_model.save(\"MetaHate<lang>/MetaHate<lang>_bert_topic_model_hate\", save_embedding_model=True)"
   ],
   "metadata": {
    "collapsed": false,
    "ExecuteTime": {
     "end_time": "2025-05-13T16:10:49.460504Z",
     "start_time": "2025-05-13T16:10:49.417797Z"
    }
   },
   "id": "fe80ba61be3c38b1"
  },
  {
   "cell_type": "code",
   "execution_count": 30,
   "outputs": [],
   "source": [
    "from bertopic import BERTopic\n",
    "\n",
    "topic_model = BERTopic.load(\"MetaHate<lang>/MetaHate<lang>_bert_topic_model_hate\")"
   ],
   "metadata": {
    "collapsed": false,
    "ExecuteTime": {
     "end_time": "2025-05-14T09:28:01.539964Z",
     "start_time": "2025-05-14T09:27:58.851605Z"
    }
   },
   "id": "846e198758e26c0f"
  },
  {
   "cell_type": "code",
   "execution_count": 20,
   "outputs": [],
   "source": [
    "from nltk.corpus import stopwords\n",
    "stop_words_en = stopwords.words('english')\n",
    "stop_words_es = stopwords.words('spanish')\n",
    "stop_words_pt = stopwords.words('portuguese')"
   ],
   "metadata": {
    "collapsed": false,
    "ExecuteTime": {
     "end_time": "2025-05-14T09:14:05.801264Z",
     "start_time": "2025-05-14T09:14:05.099104Z"
    }
   },
   "id": "8db6be49a91bc442"
  },
  {
   "cell_type": "markdown",
   "source": [
    "## Word Cloud"
   ],
   "metadata": {
    "collapsed": false
   },
   "id": "77f0dfaa0ee03e9"
  },
  {
   "cell_type": "code",
   "execution_count": null,
   "outputs": [],
   "source": [
    "from matplotlib import pyplot as plt\n",
    "from wordcloud import WordCloud\n",
    "import matplotlib.colors as mcolors\n",
    "import textwrap\n",
    "\n",
    "cols = [\"#f9cce0\", \"#f397c2\", \"#ec639f\", \"#d2047b\", \"#a00361\", \"#700248\"]\n",
    "\n",
    "\n",
    "cloud = WordCloud(stopwords=stop_words_pt,\n",
    "                  background_color='white',\n",
    "                  width=2500,\n",
    "                  height=1800,\n",
    "                  max_words=10,\n",
    "                  colormap='tab10',\n",
    "                  color_func=lambda *args, **kwargs: cols[num],\n",
    "                  prefer_horizontal=1.0)\n",
    "\n",
    "topics_dict = topic_model.get_topics()\n",
    "selected_indices = [0, 1, 4, 6, 7, 8] # ES\n",
    "#selected_indices = [0, 3, 6, 7, 8, 9] # PT\n",
    "#selected_indices = [2, 3, 4, 5, 6, 9] # GL_es\n",
    "#selected_indices = [1, 2, 3, 4, 6, 8] # GL_pt\n",
    "#selected_indices = [1, 2, 3, 5, 6, 7] # EN\n",
    "\n",
    "topic_labels = topics_labels_<lang>\n",
    "fig, axes = plt.subplots(2, 3, figsize=(10,10), sharex=True, sharey=True)\n",
    "\n",
    "num = 0\n",
    "for i, (ax, topic_idx) in enumerate(zip(axes.flatten(), selected_indices)):\n",
    "    fig.add_subplot(ax)\n",
    "    if topic_idx in topics_dict:\n",
    "        topic_words = dict(topics_dict[topic_idx])\n",
    "        cloud.generate_from_frequencies(topic_words, max_font_size=600)\n",
    "        topic_label = topic_labels.get(topic_idx, f\"Topic {topic_idx}\")\n",
    "        plt.gca().imshow(cloud)\n",
    "        wrapped_label = \"\\n\".join(textwrap.wrap(topic_label, width=20))\n",
    "        plt.gca().set_title(wrapped_label, fontdict=dict(size=16))\n",
    "        plt.gca().axis('off')\n",
    "        num += 1\n",
    "\n",
    "\n",
    "plt.subplots_adjust(wspace=-100, hspace=0)\n",
    "plt.axis('off')\n",
    "plt.margins(x=0, y=0)\n",
    "plt.tight_layout()\n",
    "plt.show()"
   ],
   "metadata": {
    "collapsed": false
   },
   "id": "b0d49feaa3d7cc07"
  },
  {
   "cell_type": "code",
   "execution_count": null,
   "outputs": [],
   "source": [
    "# t-SNE clustering\n",
    "from sklearn.manifold import TSNE\n",
    "from bokeh.plotting import figure, show\n",
    "from sklearn.preprocessing import normalize\n",
    "from sentence_transformers import SentenceTransformer\n",
    "from bertopic import BERTopic\n",
    "import joblib\n",
    "\n",
    "docs = [\" \".join(doc) for doc in data_ready]\n",
    "\n",
    "model = SentenceTransformer('distilbert-base-nli-mean-tokens')\n",
    "embeddings = model.encode(docs, show_progress_bar=True)"
   ],
   "metadata": {
    "collapsed": false
   },
   "id": "f0095fce6dc44bc"
  },
  {
   "cell_type": "code",
   "execution_count": null,
   "outputs": [],
   "source": [
    "import numpy as np\n",
    "topics, probs = topic_model.transform(docs, embeddings=embeddings)\n",
    "probs = np.array(probs)\n",
    "print(probs.shape) \n",
    "\n",
    "selected_topics = [0, 1, 3, 4, 6, 8] # ES\n",
    "#selected_topics = [0, 3, 6, 7, 8, 9] # PT\n",
    "#selected_topics = [2, 3, 4, 5, 6, 9] # GL_es\n",
    "#selected_topics = [1, 2, 3, 4, 6, 8] # GL_pt\n",
    "#selected_topics = [1, 2, 3, 5, 6, 7] # EN\n",
    "\n",
    "probs = probs[:, selected_topics]\n",
    "probs_selected = normalize(probs, norm='l1', axis=1)\n",
    "print(probs_selected.shape) \n",
    "\n",
    "tsne_model = TSNE(\n",
    "    n_components=2,\n",
    "    learning_rate=50,\n",
    "    n_iter=1500, # 1000\n",
    "    verbose=1,\n",
    "    random_state=0,\n",
    "    angle=.5,\n",
    "    init='pca',\n",
    "    perplexity=30 # 40\n",
    ")\n",
    "tsne_lda = tsne_model.fit_transform(probs_selected)"
   ],
   "metadata": {
    "collapsed": false
   },
   "id": "6c1891b4c43b3d2b"
  },
  {
   "cell_type": "code",
   "execution_count": null,
   "outputs": [],
   "source": [
    "import matplotlib.pyplot as plt\n",
    "import matplotlib.colors as mcolors\n",
    "\n",
    "topic_num = np.argmax(probs_selected, axis=1)\n",
    "colors = np.array([\"#f9cce0\", \"#f397c2\", \"#ec639f\", \"#d2047b\", \"#a00361\", \"#700248\"])\n",
    "plt.figure(figsize=(8, 8), dpi=300)\n",
    "scatter = plt.scatter(tsne_lda[:,0], tsne_lda[:,1], c=colors[topic_num], s=8)\n",
    "\n",
    "handles, _ = scatter.legend_elements(prop='colors')\n",
    "plt.suptitle(\"MetaHate<lang> - t-SNE Clustering of Hate Topics\")\n",
    "plt.axis(\"off\")\n",
    "plt.show()"
   ],
   "metadata": {
    "collapsed": false
   },
   "id": "2e787eec9a028908"
  },
  {
   "cell_type": "code",
   "execution_count": null,
   "outputs": [],
   "source": [],
   "metadata": {
    "collapsed": false
   },
   "id": "fe7fefc5a2f6ea9"
  }
 ],
 "metadata": {
  "kernelspec": {
   "display_name": "Python 3",
   "language": "python",
   "name": "python3"
  },
  "language_info": {
   "codemirror_mode": {
    "name": "ipython",
    "version": 2
   },
   "file_extension": ".py",
   "mimetype": "text/x-python",
   "name": "python",
   "nbconvert_exporter": "python",
   "pygments_lexer": "ipython2",
   "version": "2.7.6"
  }
 },
 "nbformat": 4,
 "nbformat_minor": 5
}
